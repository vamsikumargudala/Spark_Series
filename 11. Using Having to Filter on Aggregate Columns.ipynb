{
 "cells": [
  {
   "cell_type": "markdown",
   "id": "1c6757d7",
   "metadata": {},
   "source": [
    "# Introduction"
   ]
  },
  {
   "cell_type": "markdown",
   "id": "314e4989",
   "metadata": {},
   "source": [
    "### Having \n",
    "is similar to filtering, which can be compared to functions like **\"filter()\"** in programming or the **\"WHERE\"** clause in SQL queries. However, their use cases have subtle differences. While filtering allows you to set conditions on non-aggregated columns to restrict the result set, **\"Having\"** allows you to impose conditions on aggregate functions or columns instead."
   ]
  },
  {
   "cell_type": "markdown",
   "id": "c31812ec",
   "metadata": {},
   "source": [
    "Both methods serve the purpose of limiting your result set, but the key distinction lies in how they are applied. In summary, **\"WHERE\"** filters are employed for row-level filtering, while \"HAVING\" filters operate at the aggregate level. Consequently, the use of a **\"HAVING\"** statement can often simplify or even eliminate the need for certain sub-queries or Common Table Expressions (CTEs)."
   ]
  },
  {
   "cell_type": "markdown",
   "id": "03254643",
   "metadata": {},
   "source": [
    "Let's consider an example:\n",
    "\n",
    "In our previous section, we used filtering to exclude animals from a dataset if their names didn't start with the letter \"C.\" We also utilized filtering to eliminate animals categorized as pets from our dataset.\n",
    "\n",
    "\"HAVING\" becomes particularly valuable when you want to compute a metric within your dataset and then further refine your dataset based on that aggregated metric. In essence, it functions like a \"WHERE\" clause for aggregate functions."
   ]
  },
  {
   "cell_type": "markdown",
   "id": "98d1641b",
   "metadata": {},
   "source": [
    "### In this Exercise Set:\n",
    "\n",
    "#### What are the top three animal categories with the highest total combined age?\n",
    "\n",
    "To put it even more straightforwardly, this question can be rephrased as: \"If we add up the ages of all animals in each category, which three categories have the highest total age?\" Fortunately, Spark provides an easy way to accomplish this task."
   ]
  },
  {
   "cell_type": "code",
   "execution_count": 1,
   "id": "5d5640c8",
   "metadata": {},
   "outputs": [
    {
     "data": {
      "text/plain": [
       "'C:\\\\Spark\\\\sparkhome'"
      ]
     },
     "execution_count": 1,
     "metadata": {},
     "output_type": "execute_result"
    }
   ],
   "source": [
    "import findspark\n",
    "findspark.init()\n",
    "findspark.find()"
   ]
  },
  {
   "cell_type": "code",
   "execution_count": 2,
   "id": "d2318fd2",
   "metadata": {},
   "outputs": [],
   "source": [
    "from pyspark.sql import SparkSession"
   ]
  },
  {
   "cell_type": "code",
   "execution_count": 3,
   "id": "0284cec7",
   "metadata": {},
   "outputs": [],
   "source": [
    "spark = SparkSession.builder.appName('Vamsi_App_7').getOrCreate()"
   ]
  },
  {
   "cell_type": "markdown",
   "id": "034ff54b",
   "metadata": {},
   "source": [
    "Create an RDD from a list, convert it into a DataFrame, register it as a temporary table, and then perform SQL-like queries on it using Spark. The output indeed shows the top three animal categories with a total age greater than 10."
   ]
  },
  {
   "cell_type": "code",
   "execution_count": 5,
   "id": "705fe17c",
   "metadata": {},
   "outputs": [],
   "source": [
    "my_previous_pets = [(\"fido\", \"dog\", 4, \"brown\"),\n",
    "(\"annabelle\", \"cat\", 15, \"white\"),\n",
    "(\"fred\", \"bear\", 29, \"brown\"),\n",
    "(\"daisy\", \"cat\", 8, \"black\"),\n",
    "(\"jerry\", \"cat\", 1, \"white\"),\n",
    "(\"fred\", \"parrot\", 1, \"brown\"),\n",
    "(\"gus\", \"fish\", 1, \"gold\"),\n",
    "(\"gus\", \"dog\", 11, \"black\"),\n",
    "(\"daisy\", \"iguana\", 2, \"green\"),\n",
    "(\"rufus\", \"dog\", 10, \"gold\")]\n",
    "\n",
    "petsRDD = spark.sparkContext.parallelize(my_previous_pets)\n",
    "petsDF = spark.createDataFrame(petsRDD,['name','type','age','color'])"
   ]
  },
  {
   "cell_type": "code",
   "execution_count": 6,
   "id": "a3d5a3e9",
   "metadata": {},
   "outputs": [],
   "source": [
    "#Create a temporary table view of the DataFrame for Spark SQL operations.\n",
    "petsDF.createOrReplaceTempView('pets')"
   ]
  },
  {
   "cell_type": "markdown",
   "id": "9018cb62",
   "metadata": {},
   "source": [
    "### Spark SQL"
   ]
  },
  {
   "cell_type": "code",
   "execution_count": 7,
   "id": "57d92d54",
   "metadata": {},
   "outputs": [
    {
     "name": "stdout",
     "output_type": "stream",
     "text": [
      "+----+---------+\n",
      "|type|total_age|\n",
      "+----+---------+\n",
      "|bear|       29|\n",
      "| dog|       25|\n",
      "| cat|       24|\n",
      "+----+---------+\n",
      "\n"
     ]
    }
   ],
   "source": [
    "result = spark.sql(\"SELECT type, SUM(age) AS total_age FROM pets GROUP BY type HAVING total_age > 10 ORDER BY total_age DESC\")\n",
    "result.show()"
   ]
  },
  {
   "cell_type": "markdown",
   "id": "bed0eb26",
   "metadata": {},
   "source": [
    "### Programmatic Approach"
   ]
  },
  {
   "cell_type": "code",
   "execution_count": 8,
   "id": "03dc0fd2",
   "metadata": {},
   "outputs": [],
   "source": [
    "from pyspark.sql.functions import col"
   ]
  },
  {
   "cell_type": "code",
   "execution_count": 9,
   "id": "bb0a15ab",
   "metadata": {},
   "outputs": [],
   "source": [
    "results = petsDF.groupBy(\"type\").sum(\"age\").withColumnRenamed(\"sum(age)\",\"total_age\").where(col(\"total_age\")>10).orderBy(col(\"total_age\").desc())"
   ]
  },
  {
   "cell_type": "code",
   "execution_count": 10,
   "id": "d6f25605",
   "metadata": {},
   "outputs": [
    {
     "name": "stdout",
     "output_type": "stream",
     "text": [
      "+----+---------+\n",
      "|type|total_age|\n",
      "+----+---------+\n",
      "|bear|       29|\n",
      "| dog|       25|\n",
      "| cat|       24|\n",
      "+----+---------+\n",
      "\n"
     ]
    }
   ],
   "source": [
    "results.show()"
   ]
  },
  {
   "cell_type": "code",
   "execution_count": null,
   "id": "c4479213",
   "metadata": {},
   "outputs": [],
   "source": []
  }
 ],
 "metadata": {
  "kernelspec": {
   "display_name": "Python 3 (ipykernel)",
   "language": "python",
   "name": "python3"
  },
  "language_info": {
   "codemirror_mode": {
    "name": "ipython",
    "version": 3
   },
   "file_extension": ".py",
   "mimetype": "text/x-python",
   "name": "python",
   "nbconvert_exporter": "python",
   "pygments_lexer": "ipython3",
   "version": "3.9.12"
  }
 },
 "nbformat": 4,
 "nbformat_minor": 5
}
